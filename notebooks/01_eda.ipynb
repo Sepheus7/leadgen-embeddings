{
  "cells": [
    {
      "cell_type": "markdown",
      "metadata": {},
      "source": [
        "# Day 1 EDA (placeholder)\n",
        "\n",
        "Load data/crm.parquet and explore distributions in Day-2.\n"
      ]
    }
  ],
  "metadata": {
    "language_info": {
      "name": "python"
    }
  },
  "nbformat": 4,
  "nbformat_minor": 2
}
